{
 "cells": [
  {
   "cell_type": "code",
   "execution_count": 1,
   "id": "electoral-scratch",
   "metadata": {},
   "outputs": [],
   "source": [
    "import detectamdo_objetos as do\n",
    "import captador_image as cp\n",
    "from matplotlib import pyplot as plt\n",
    "import cv2\n",
    "import json\n",
    "import mouse_driver as md"
   ]
  },
  {
   "cell_type": "code",
   "execution_count": 2,
   "id": "analyzed-queensland",
   "metadata": {},
   "outputs": [],
   "source": [
    "with open('./bomber_id/bomber.json') as json_data:\n",
    "    ls_bomber = json.load(json_data)\n",
    "    json_data.close()\n",
    "    \n",
    "ls_bomber[0][\"r_coloca_casa\"]\n",
    "ls_bomber_avaliados =[]\n"
   ]
  },
  {
   "cell_type": "code",
   "execution_count": 3,
   "id": "dimensional-desperate",
   "metadata": {},
   "outputs": [
    {
     "data": {
      "text/plain": [
       "[{'id': '7784',\n",
       "  'img': './bomber_id/bomber_7784_common.bmp',\n",
       "  'r_coloca_casa': False,\n",
       "  'limiar': 0.9},\n",
       " {'id': '12822',\n",
       "  'img': './bomber_id/bomber_12822_legend.bmp',\n",
       "  'r_coloca_casa': True,\n",
       "  'limiar': 0.7},\n",
       " {'id': '15536',\n",
       "  'img': './bomber_id/bomber_15536_rare.bmp',\n",
       "  'r_coloca_casa': False,\n",
       "  'limiar': 0.9},\n",
       " {'id': '17671',\n",
       "  'img': './bomber_id/bomber_17671_common.bmp',\n",
       "  'r_coloca_casa': False,\n",
       "  'limiar': 0.8},\n",
       " {'id': '19733',\n",
       "  'img': './bomber_id/bomber_19733_rare.bmp',\n",
       "  'r_coloca_casa': False,\n",
       "  'limiar': 0.8},\n",
       " {'id': '23774',\n",
       "  'img': './bomber_id/bomber_23774_superrare.bmp',\n",
       "  'r_coloca_casa': False,\n",
       "  'limiar': 0.8},\n",
       " {'id': '28197',\n",
       "  'img': './bomber_id/bomber_28197_superrare.bmp',\n",
       "  'r_coloca_casa': False,\n",
       "  'limiar': 0.8},\n",
       " {'id': '29922',\n",
       "  'img': './bomber_id/bomber_29922_rare.bmp',\n",
       "  'r_coloca_casa': False,\n",
       "  'limiar': 0.9},\n",
       " {'id': '30329',\n",
       "  'img': './bomber_id/bomber_30329_common.bmp',\n",
       "  'r_coloca_casa': False,\n",
       "  'limiar': 0.8},\n",
       " {'id': '48495',\n",
       "  'img': './bomber_id/bomber_48495_rare.bmp',\n",
       "  'r_coloca_casa': False,\n",
       "  'limiar': 0.8},\n",
       " {'id': '653749',\n",
       "  'img': './bomber_id/bomber_653749_rare.bmp',\n",
       "  'r_coloca_casa': False,\n",
       "  'limiar': 0.8},\n",
       " {'id': '653753',\n",
       "  'img': './bomber_id/bomber_653753_common.bmp',\n",
       "  'r_coloca_casa': False,\n",
       "  'limiar': 0.8},\n",
       " {'id': '812421',\n",
       "  'img': './bomber_id/bomber_812421_rare.bmp',\n",
       "  'r_coloca_casa': False,\n",
       "  'limiar': 0.8},\n",
       " {'id': '812422',\n",
       "  'img': './bomber_id/bomber_812422_common.bmp',\n",
       "  'r_coloca_casa': False,\n",
       "  'limiar': 0.8},\n",
       " {'id': '1192973',\n",
       "  'img': './bomber_id/bomber_1192973_superrare.bmp',\n",
       "  'r_coloca_casa': False,\n",
       "  'limiar': 0.8}]"
      ]
     },
     "execution_count": 3,
     "metadata": {},
     "output_type": "execute_result"
    }
   ],
   "source": [
    "ls_bomber"
   ]
  },
  {
   "cell_type": "code",
   "execution_count": null,
   "id": "visible-sector",
   "metadata": {},
   "outputs": [],
   "source": []
  },
  {
   "cell_type": "code",
   "execution_count": 4,
   "id": "mexican-marking",
   "metadata": {},
   "outputs": [],
   "source": [
    "# do.get_rectangle_heros(im_rgb)"
   ]
  },
  {
   "cell_type": "code",
   "execution_count": null,
   "id": "cognitive-intellectual",
   "metadata": {},
   "outputs": [],
   "source": [
    "\n"
   ]
  },
  {
   "cell_type": "code",
   "execution_count": 5,
   "id": "nonprofit-apache",
   "metadata": {},
   "outputs": [],
   "source": [
    "# l[0]"
   ]
  },
  {
   "cell_type": "code",
   "execution_count": 6,
   "id": "functioning-jewel",
   "metadata": {},
   "outputs": [],
   "source": [
    "# boneco = {\"id\":123123,\n",
    "#          \"foto\": \"foot\",\n",
    "#           estado:{\n",
    "#               \"working\":False\n",
    "#               \"rest\" : True\n",
    "#               \"house\": False\n",
    "#           }\n",
    "#           \"r_coloca_house\": True\n",
    "#          }\n",
    "\n",
    "\n",
    "# image = l[1]\n",
    "# cv2.imshow(\"Before NMS\",image[0])\n",
    "# print(do.r_work_on(image[0]))\n",
    "# print(image[1])\n",
    "# cv2.waitKey(0)"
   ]
  },
  {
   "cell_type": "code",
   "execution_count": 7,
   "id": "exclusive-summit",
   "metadata": {},
   "outputs": [],
   "source": [
    "# ls_bomber_disponiveis"
   ]
  },
  {
   "cell_type": "code",
   "execution_count": 8,
   "id": "productive-gather",
   "metadata": {},
   "outputs": [],
   "source": [
    "def r_detecta_bomber(img, bomber):\n",
    "    template = cv2.imread(bomber[\"img\"]) \n",
    "    saida = do.detecta_multiplos_objetos(img,template, bomber[\"limiar\"])\n",
    "    if saida[2] == True:\n",
    "        return True, saida\n",
    "    else:\n",
    "        return False, ()\n",
    "    \n",
    "def find_bomb(img, ls_bomber_av):  \n",
    "    for i, bomber in enumerate(ls_bomber_av):\n",
    "#         print(\"---------------\")\n",
    "#         print(bomber)\n",
    "        encontrou, saida = r_detecta_bomber(img, bomber)\n",
    "        if encontrou:\n",
    "            bomber_encontrado = ls_bomber_av.pop(i)\n",
    "            return True, bomber_encontrado, saida\n",
    "    \n",
    "    \n",
    "    \n",
    "    print(\"nao encontrado nenhum bomber\")\n",
    "    return False, {}, ()\n",
    "# ls_bomber_disponiveis = ls_bomber.copy()\n",
    "# im_rgb = cp.snapshot()\n",
    "# # cv2.imshow(\"Before NMS\",im_rgb)\n",
    "# # cv2.waitKey(0)\n",
    "# l = do.get_heros_from_image(im_rgb)\n",
    "# print(len(l))\n",
    "# for i, image in enumerate(l):\n",
    "#     img = image[0]\n",
    "#     cv2.imwrite(f'./example/teste{i}.bmp', img)\n",
    "    \n",
    "#     saida = find_bomb(img, ls_bomber_disponiveis)\n",
    "#     if saida[0]:\n",
    "#         print(saida[1])\n",
    "#         cv2.imshow(\"Before NMS\",saida[2][0])\n",
    "#         cv2.waitKey(0)\n",
    "\n",
    "# print(ls_bomber_disponiveis)   \n",
    "    \n",
    "# print(find_bomb(img, ls_bomber_disponiveis))"
   ]
  },
  {
   "cell_type": "code",
   "execution_count": 9,
   "id": "sixth-houston",
   "metadata": {},
   "outputs": [],
   "source": [
    "# with open('./bomber_id/bomber.json') as json_data:\n",
    "#     ls_bomber = json.load(json_data)\n",
    "#     json_data.close()\n",
    "    \n",
    "# ls_bomber[0][\"r_coloca_casa\"]\n",
    "# ls_bomber_avaliados =[]\n",
    "\n",
    "# print(ls_bomber)\n",
    "\n",
    "# for bomber in ls_bomber:\n",
    "#     print({bomber[\"id\"]})\n",
    "#     cv2.imshow(\"Before NMS\", cv2.imread(f'./example/{bomber[\"id\"]}.bmp'))\n",
    "#     cv2.waitKey(0)\n",
    "#     saida = r_detecta_bomber(cv2.imread(f'./example/{bomber[\"id\"]}.bmp'), bomber)\n",
    "    \n",
    "#     print(bomber)\n",
    "#     cv2.imshow(\"Before NMS\",saida[1][0])\n",
    "#     cv2.waitKey(0)\n",
    "\n",
    "    "
   ]
  },
  {
   "cell_type": "code",
   "execution_count": 10,
   "id": "supported-piece",
   "metadata": {},
   "outputs": [],
   "source": [
    "# with open('./bomber_id/bomber.json') as json_data:\n",
    "#     ls_bomber = json.load(json_data)\n",
    "#     json_data.close()\n",
    "    \n",
    "# ls_bomber[0][\"r_coloca_casa\"]\n",
    "# ls_bomber_avaliados =[]\n",
    "\n",
    "# print(ls_bomber)\n",
    "\n",
    "# for bomber in ls_bomber:\n",
    "#     print({bomber[\"id\"]})\n",
    "#     cv2.imshow(\"Before NMS\", cv2.imread(f'./example/{bomber[\"id\"]}.bmp'))\n",
    "#     cv2.waitKey(0)\n",
    "#     ls_bomber_disponiveis = ls_bomber.copy()\n",
    "#     saida = find_bomb(cv2.imread(f'./example/{bomber[\"id\"]}.bmp'), ls_bomber_disponiveis)\n",
    "    \n",
    "#     print(bomber)\n",
    "#     print(saida)\n",
    "#     cv2.imshow(\"Before NMS\",saida[2][0])\n",
    "#     cv2.waitKey(0)\n"
   ]
  },
  {
   "cell_type": "code",
   "execution_count": 11,
   "id": "presidential-officer",
   "metadata": {},
   "outputs": [],
   "source": [
    "# ls_bomber_disponiveis = ls_bomber.copy()\n",
    "# cv2.imshow(\"Before NMS\", cv2.imread(f'./example/{12822}.bmp'))\n",
    "# cv2.waitKey(0)\n",
    "# saida = find_bomb(cv2.imread(f'./example/{12822}.bmp'), ls_bomber_disponiveis)\n",
    "# cv2.imshow(\"Before NMS\",saida[2][0])\n",
    "# cv2.waitKey(0)"
   ]
  },
  {
   "cell_type": "code",
   "execution_count": 12,
   "id": "combined-airplane",
   "metadata": {},
   "outputs": [
    {
     "ename": "NameError",
     "evalue": "name 'ls_bomber_disponiveis' is not defined",
     "output_type": "error",
     "traceback": [
      "\u001b[1;31m---------------------------------------------------------------------------\u001b[0m",
      "\u001b[1;31mNameError\u001b[0m                                 Traceback (most recent call last)",
      "\u001b[1;32m<ipython-input-12-072b871abebc>\u001b[0m in \u001b[0;36m<module>\u001b[1;34m\u001b[0m\n\u001b[1;32m----> 1\u001b[1;33m \u001b[0mls_bomber_disponiveis\u001b[0m\u001b[1;33m\u001b[0m\u001b[1;33m\u001b[0m\u001b[0m\n\u001b[0m",
      "\u001b[1;31mNameError\u001b[0m: name 'ls_bomber_disponiveis' is not defined"
     ]
    }
   ],
   "source": [
    "# ls_bomber_disponiveis"
   ]
  },
  {
   "cell_type": "code",
   "execution_count": null,
   "id": "liable-injection",
   "metadata": {},
   "outputs": [],
   "source": [
    "# cv2.imwrite(\"./example/teste.bmp\", l[0][0])"
   ]
  },
  {
   "cell_type": "code",
   "execution_count": null,
   "id": "curious-blair",
   "metadata": {},
   "outputs": [],
   "source": [
    "# l[1]"
   ]
  },
  {
   "cell_type": "code",
   "execution_count": null,
   "id": "handled-cheat",
   "metadata": {},
   "outputs": [],
   "source": [
    "# ls_bomber.copy()"
   ]
  },
  {
   "cell_type": "code",
   "execution_count": 13,
   "id": "latter-interpretation",
   "metadata": {},
   "outputs": [],
   "source": [
    "def findo_box_heros(img, ls_bomber_disponiveis):\n",
    "    l = do.get_heros_from_image(img)\n",
    "    print(len(l))\n",
    "    for image in l:\n",
    "        img = image[0]\n",
    "        b = find_bomb(img, ls_bomber_disponiveis)\n",
    "        yield b\n",
    "    return False, {}, ()\n",
    "            \n",
    "def get_next_bomber(ls_b):\n",
    "    im_rgb = cp.snapshot()\n",
    "    for b in findo_box_heros(im_rgb, ls_b):\n",
    "        yield b\n",
    "\n",
    "    saida = do.get_local_click(im_rgb)\n",
    "    for i in md.scrola_mouse_house(saida,True):\n",
    "        im_rgb = cp.snapshot()\n",
    "        for b in findo_box_heros(im_rgb, ls_b):\n",
    "            yield b\n",
    "            \n",
    "    return False, {}, ()\n",
    "    "
   ]
  },
  {
   "cell_type": "code",
   "execution_count": 17,
   "id": "recreational-turkish",
   "metadata": {},
   "outputs": [
    {
     "name": "stdout",
     "output_type": "stream",
     "text": [
      "[INFO] 4 matched locations *before* NMS\n",
      "[INFO] 4 matched locations *before* NMS\n",
      "[INFO] 0 matched locations *before* NMS\n",
      "[INFO] 0 matched locations *before* NMS\n",
      "4\n",
      "[INFO] 0 matched locations *before* NMS\n",
      "[INFO] 0 matched locations *before* NMS\n",
      "[INFO] 0 matched locations *before* NMS\n",
      "[INFO] 0 matched locations *before* NMS\n",
      "[INFO] 0 matched locations *before* NMS\n",
      "[INFO] 0 matched locations *before* NMS\n",
      "[INFO] 0 matched locations *before* NMS\n",
      "[INFO] 0 matched locations *before* NMS\n",
      "[INFO] 2 matched locations *before* NMS\n",
      "o boneco\n"
     ]
    },
    {
     "ename": "NameError",
     "evalue": "name 'i' is not defined",
     "output_type": "error",
     "traceback": [
      "\u001b[1;31m---------------------------------------------------------------------------\u001b[0m",
      "\u001b[1;31mNameError\u001b[0m                                 Traceback (most recent call last)",
      "\u001b[1;32m<ipython-input-17-08535b807af1>\u001b[0m in \u001b[0;36m<module>\u001b[1;34m\u001b[0m\n\u001b[0;32m      3\u001b[0m     \u001b[0mprint\u001b[0m\u001b[1;33m(\u001b[0m\u001b[1;34m\"o boneco\"\u001b[0m\u001b[1;33m)\u001b[0m\u001b[1;33m\u001b[0m\u001b[1;33m\u001b[0m\u001b[0m\n\u001b[0;32m      4\u001b[0m     \u001b[1;32mif\u001b[0m \u001b[0mbomber\u001b[0m\u001b[1;33m:\u001b[0m\u001b[1;33m\u001b[0m\u001b[1;33m\u001b[0m\u001b[0m\n\u001b[1;32m----> 5\u001b[1;33m         \u001b[1;32mif\u001b[0m \u001b[0mbomber\u001b[0m\u001b[1;33m[\u001b[0m\u001b[0mi\u001b[0m\u001b[1;33m]\u001b[0m\u001b[1;33m:\u001b[0m\u001b[1;33m\u001b[0m\u001b[1;33m\u001b[0m\u001b[0m\n\u001b[0m\u001b[0;32m      6\u001b[0m             \u001b[0mprint\u001b[0m\u001b[1;33m(\u001b[0m\u001b[0mbomber\u001b[0m\u001b[1;33m[\u001b[0m\u001b[1;36m1\u001b[0m\u001b[1;33m]\u001b[0m\u001b[1;33m)\u001b[0m\u001b[1;33m\u001b[0m\u001b[1;33m\u001b[0m\u001b[0m\n\u001b[0;32m      7\u001b[0m \u001b[1;33m\u001b[0m\u001b[0m\n",
      "\u001b[1;31mNameError\u001b[0m: name 'i' is not defined"
     ]
    }
   ],
   "source": [
    "ls_bomber_disponiveis = ls_bomber.copy()\n",
    "for bomber in get_next_bomber(ls_bomber_disponiveis):\n",
    "    print(\"o boneco\")\n",
    "    if bomber:\n",
    "        if bomber[0]:\n",
    "            print(bomber[1])\n",
    "            cv2.imshow(\"Before NMS\",bomber[2][0])\n",
    "            cv2.waitKey(0)\n",
    "        \n",
    "        \n",
    "\n",
    "#     print(bomber)\n",
    "#     if bomber[0]:\n",
    "#         \n",
    "#         print(ls_bomber_disponiveis)"
   ]
  },
  {
   "cell_type": "code",
   "execution_count": null,
   "id": "binary-milwaukee",
   "metadata": {},
   "outputs": [],
   "source": [
    "ls_bomber_disponiveis"
   ]
  }
 ],
 "metadata": {
  "kernelspec": {
   "display_name": "Python 3",
   "language": "python",
   "name": "python3"
  },
  "language_info": {
   "codemirror_mode": {
    "name": "ipython",
    "version": 3
   },
   "file_extension": ".py",
   "mimetype": "text/x-python",
   "name": "python",
   "nbconvert_exporter": "python",
   "pygments_lexer": "ipython3",
   "version": "3.6.12"
  }
 },
 "nbformat": 4,
 "nbformat_minor": 5
}
