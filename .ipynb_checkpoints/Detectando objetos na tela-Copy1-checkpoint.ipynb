{
 "cells": [
  {
   "cell_type": "code",
   "execution_count": 1,
   "id": "operating-stupid",
   "metadata": {},
   "outputs": [],
   "source": [
    "import cv2\n",
    "import numpy as np\n",
    "from matplotlib import pyplot as plt"
   ]
  },
  {
   "cell_type": "code",
   "execution_count": 2,
   "id": "rising-driving",
   "metadata": {},
   "outputs": [],
   "source": [
    "img = cv2.imread('./teste/foto_heros_menu.bmp')\n",
    "template = cv2.imread('./bomber_stats/bomb_work_on.bmp')\n"
   ]
  },
  {
   "cell_type": "code",
   "execution_count": null,
   "id": "northern-partnership",
   "metadata": {},
   "outputs": [],
   "source": []
  },
  {
   "cell_type": "code",
   "execution_count": 3,
   "id": "alien-istanbul",
   "metadata": {},
   "outputs": [],
   "source": [
    "def detecta_multiplos_objetos(img, template, trheshold =0.9):\n",
    "    saida = []\n",
    "    (tH, tW) = template.shape[:2]\n",
    "    imageGray = cv2.cvtColor(img, cv2.COLOR_BGR2GRAY)\n",
    "    templateGray = cv2.cvtColor(template, cv2.COLOR_BGR2GRAY)\n",
    "    result = cv2.matchTemplate(imageGray, templateGray,\n",
    "                           cv2.TM_CCOEFF_NORMED)\n",
    "    \n",
    "#     trheshold = 0.9\n",
    "    (yCoords, xCoords) = np.where(result >= trheshold)\n",
    "    clone = img.copy()\n",
    "    print(\"[INFO] {} matched locations *before* NMS\".format(len(yCoords)))\n",
    "    # loop over our starting (x, y)-coordinates\n",
    "    for (x, y) in zip(xCoords, yCoords):\n",
    "        # draw the bounding box on the image\n",
    "        cv2.rectangle(clone, (x, y), (x + tW, y + tH),(255, 0, 0), 3)\n",
    "        saida.append(((x,y), (x + tW, y + tH)))\n",
    "        \n",
    "    return clone, saida\n",
    "        \n",
    "    "
   ]
  },
  {
   "cell_type": "code",
   "execution_count": 4,
   "id": "arabic-lincoln",
   "metadata": {},
   "outputs": [
    {
     "name": "stdout",
     "output_type": "stream",
     "text": [
      "[INFO] 5 matched locations *before* NMS\n"
     ]
    },
    {
     "data": {
      "text/plain": [
       "-1"
      ]
     },
     "execution_count": 4,
     "metadata": {},
     "output_type": "execute_result"
    }
   ],
   "source": [
    "img, saida = detecta_multiplos_objetos(img, template)\n",
    "cv2.imshow(\"Before NMS\", img)\n",
    "cv2.waitKey(0)"
   ]
  },
  {
   "cell_type": "code",
   "execution_count": 5,
   "id": "enhanced-speed",
   "metadata": {},
   "outputs": [
    {
     "data": {
      "text/plain": [
       "[((897, 438), (953, 485)),\n",
       " ((897, 510), (953, 557)),\n",
       " ((897, 582), (953, 629)),\n",
       " ((897, 654), (953, 701)),\n",
       " ((897, 726), (953, 773))]"
      ]
     },
     "execution_count": 5,
     "metadata": {},
     "output_type": "execute_result"
    }
   ],
   "source": [
    "saida"
   ]
  },
  {
   "cell_type": "code",
   "execution_count": 59,
   "id": "dressed-eleven",
   "metadata": {},
   "outputs": [
    {
     "name": "stdout",
     "output_type": "stream",
     "text": [
      "[INFO] 5 matched locations *before* NMS\n",
      "[INFO] 5 matched locations *before* NMS\n"
     ]
    },
    {
     "data": {
      "text/plain": [
       "-1"
      ]
     },
     "execution_count": 59,
     "metadata": {},
     "output_type": "execute_result"
    }
   ],
   "source": [
    "img = cv2.imread('./teste/foto_heros_menu_croped.bmp')\n",
    "template = cv2.imread('./menu/lado_direito_normal.bmp')\n",
    "img, saida_d = detecta_multiplos_objetos(img, template)\n",
    "\n",
    "template2 = cv2.imread('./menu/lado_esquerdo_normal.bmp')\n",
    "img, saida_s = detecta_multiplos_objetos(img, template2, 0.98)\n",
    "\n",
    "\n",
    "cv2.imshow(\"Before NMS\", img)\n",
    "cv2.waitKey(0)"
   ]
  },
  {
   "cell_type": "code",
   "execution_count": 61,
   "id": "confident-olive",
   "metadata": {},
   "outputs": [
    {
     "data": {
      "text/plain": [
       "[((197, 291), (206, 347)),\n",
       " ((197, 363), (206, 419)),\n",
       " ((197, 435), (206, 491)),\n",
       " ((197, 507), (206, 563)),\n",
       " ((197, 579), (206, 635))]"
      ]
     },
     "execution_count": 61,
     "metadata": {},
     "output_type": "execute_result"
    }
   ],
   "source": [
    "saida_s"
   ]
  },
  {
   "cell_type": "code",
   "execution_count": 62,
   "id": "elegant-practice",
   "metadata": {},
   "outputs": [
    {
     "data": {
      "text/plain": [
       "[(((197, 291), (206, 347)), ((673, 291), (687, 351))),\n",
       " (((197, 363), (206, 419)), ((673, 363), (687, 423))),\n",
       " (((197, 435), (206, 491)), ((673, 435), (687, 495))),\n",
       " (((197, 507), (206, 563)), ((673, 507), (687, 567))),\n",
       " (((197, 579), (206, 635)), ((673, 579), (687, 639)))]"
      ]
     },
     "execution_count": 62,
     "metadata": {},
     "output_type": "execute_result"
    }
   ],
   "source": [
    "s = zip(saida_s,saida_d)\n",
    "list(s)"
   ]
  },
  {
   "cell_type": "code",
   "execution_count": 63,
   "id": "consolidated-dollar",
   "metadata": {},
   "outputs": [
    {
     "data": {
      "text/plain": [
       "(((197, 291), (206, 347)), ((673, 291), (687, 351)))"
      ]
     },
     "execution_count": 63,
     "metadata": {},
     "output_type": "execute_result"
    }
   ],
   "source": [
    "saida_s[0], saida_d[0]\n",
    "# (x, y), (x,y)"
   ]
  },
  {
   "cell_type": "code",
   "execution_count": 64,
   "id": "subject-brown",
   "metadata": {},
   "outputs": [
    {
     "data": {
      "text/plain": [
       "<zip at 0x23e575af848>"
      ]
     },
     "execution_count": 64,
     "metadata": {},
     "output_type": "execute_result"
    }
   ],
   "source": [
    "s = zip(saida_s,saida_d)\n",
    "s"
   ]
  },
  {
   "cell_type": "code",
   "execution_count": 77,
   "id": "royal-parking",
   "metadata": {},
   "outputs": [
    {
     "data": {
      "text/plain": [
       "(((197, 579), (206, 635)), ((673, 579), (687, 639)))"
      ]
     },
     "execution_count": 77,
     "metadata": {},
     "output_type": "execute_result"
    }
   ],
   "source": [
    "y_i = next(s)\n",
    "y_i"
   ]
  },
  {
   "cell_type": "code",
   "execution_count": 78,
   "id": "closing-chemical",
   "metadata": {},
   "outputs": [
    {
     "data": {
      "text/plain": [
       "-1"
      ]
     },
     "execution_count": 78,
     "metadata": {},
     "output_type": "execute_result"
    }
   ],
   "source": [
    "clone = img.copy()\n",
    "clone = cv2.circle(clone, (y_i[0][0][0],y_i[0][0][1]), radius=0, color=(0, 0, 255), thickness=7)\n",
    "clone = cv2.circle(clone, (y_i[1][0][0],y_i[1][0][1]), radius=0, color=(255, 0, 255), thickness=7)\n",
    "\n",
    "clone = cv2.circle(clone, (y_i[0][1][0],y_i[0][1][1]), radius=0, color=(0, 0, 255), thickness=7)\n",
    "clone = cv2.circle(clone, (y_i[1][1][0],y_i[1][1][1]), radius=0, color=(255, 0, 255), thickness=7)\n",
    "\n",
    "\n",
    "# clone = cv2.circle(clone, (x,y), radius=0, color=(0, 0, 255), thickness=7)\n",
    "# clone = cv2.circle(clone, (x,y), radius=0, color=(0, 0, 255), thickness=7)\n",
    "# clone = cv2.circle(clone, (x,y), radius=0, color=(0, 0, 255), thickness=7)\n",
    "\n",
    "cv2.imshow(\"Before NMS\", clone)\n",
    "cv2.waitKey(0)"
   ]
  },
  {
   "cell_type": "code",
   "execution_count": 29,
   "id": "worldwide-poetry",
   "metadata": {},
   "outputs": [
    {
     "data": {
      "text/plain": [
       "639"
      ]
     },
     "execution_count": 29,
     "metadata": {},
     "output_type": "execute_result"
    }
   ],
   "source": [
    "y_i[1][1][1]"
   ]
  },
  {
   "cell_type": "code",
   "execution_count": 79,
   "id": "cubic-wallpaper",
   "metadata": {},
   "outputs": [
    {
     "data": {
      "text/plain": [
       "(197, 579, 60, 490)"
      ]
     },
     "execution_count": 79,
     "metadata": {},
     "output_type": "execute_result"
    }
   ],
   "source": [
    "y = y_i[1][0][1]\n",
    "h = y_i[1][1][1] - y_i[0][0][1]\n",
    "\n",
    "x = y_i[0][0][0]\n",
    "w = y_i[1][1][0] - y_i[0][0][0]\n",
    "x,y,h,w"
   ]
  },
  {
   "cell_type": "code",
   "execution_count": 85,
   "id": "hazardous-weapon",
   "metadata": {},
   "outputs": [
    {
     "data": {
      "text/plain": [
       "-1"
      ]
     },
     "execution_count": 85,
     "metadata": {},
     "output_type": "execute_result"
    }
   ],
   "source": [
    "# crop_img = img[y:y+h, x:x+w]\n",
    "clone = img.copy()\n",
    "cv2.rectangle(clone, (x, y), (x + w, y + h),(255, 23, 0), 3)\n",
    "\n",
    "\n",
    "\n",
    "cv2.imshow(\"Before NMS\", clone)\n",
    "cv2.waitKey(0)"
   ]
  },
  {
   "cell_type": "code",
   "execution_count": 86,
   "id": "competitive-wedding",
   "metadata": {},
   "outputs": [
    {
     "data": {
      "text/plain": [
       "-1"
      ]
     },
     "execution_count": 86,
     "metadata": {},
     "output_type": "execute_result"
    }
   ],
   "source": [
    "cv2.imshow(\"Before NMS\", clone[ y:y+h, x:x+w])\n",
    "cv2.waitKey(0)"
   ]
  },
  {
   "cell_type": "code",
   "execution_count": 89,
   "id": "muslim-conviction",
   "metadata": {},
   "outputs": [],
   "source": [
    "def get_rectangle_heros(img):\n",
    "#     img = cv2.imread('./teste/foto_heros_menu_croped.bmp')\n",
    "    template = cv2.imread('./menu/lado_direito_normal.bmp')\n",
    "    img, saida_d = detecta_multiplos_objetos(img, template)\n",
    "    template2 = cv2.imread('./menu/lado_esquerdo_normal.bmp')\n",
    "    img, saida_s = detecta_multiplos_objetos(img, template2, 0.98)\n",
    "    def transforma_xyhw(y_i):\n",
    "        y = y_i[1][0][1]\n",
    "        h = y_i[1][1][1] - y_i[0][0][1]\n",
    "\n",
    "        x = y_i[0][0][0]\n",
    "        w = y_i[1][1][0] - y_i[0][0][0]\n",
    "        return x,y,h,w\n",
    "    \n",
    "    \n",
    "    s = zip(saida_s,saida_d)\n",
    "    return list(map(transforma_xyhw, s))\n",
    "\n",
    "def crop_image(img, x,y,h,w):\n",
    "    clone = img.copy()\n",
    "    return clone[ y:y+h, x:x+w]\n",
    "\n",
    "\n",
    "def get_heros_from_image(img):\n",
    "    h_ret = get_rectangle_heros(img)\n",
    "    ls = []\n",
    "    for r in h_ret:\n",
    "        im_c = crop_image(img, r[0], r[1], r[2], r[3])\n",
    "        ls.append((im_c,  (r[0], r[1], r[2], r[3])))\n",
    "    return ls\n",
    "\n",
    "\n",
    "\n"
   ]
  },
  {
   "cell_type": "code",
   "execution_count": 91,
   "id": "inside-opera",
   "metadata": {},
   "outputs": [],
   "source": [
    "img = cv2.imread('./teste/foto_heros_menu_croped.bmp')"
   ]
  },
  {
   "cell_type": "code",
   "execution_count": 94,
   "id": "purple-arrangement",
   "metadata": {},
   "outputs": [
    {
     "name": "stdout",
     "output_type": "stream",
     "text": [
      "[INFO] 5 matched locations *before* NMS\n",
      "[INFO] 5 matched locations *before* NMS\n"
     ]
    }
   ],
   "source": [
    "h_ret = get_rectangle_heros(img)"
   ]
  },
  {
   "cell_type": "code",
   "execution_count": 96,
   "id": "placed-platinum",
   "metadata": {},
   "outputs": [],
   "source": [
    "for r in h_ret:\n",
    "    im_c = crop_image(img, r[0], r[1], r[2], r[3])\n",
    "    cv2.imshow(\"Before NMS\", im_c)\n",
    "    cv2.waitKey(0)"
   ]
  },
  {
   "cell_type": "code",
   "execution_count": 103,
   "id": "reduced-eleven",
   "metadata": {},
   "outputs": [],
   "source": [
    "\n",
    "    "
   ]
  },
  {
   "cell_type": "code",
   "execution_count": 104,
   "id": "hired-tracy",
   "metadata": {},
   "outputs": [
    {
     "name": "stdout",
     "output_type": "stream",
     "text": [
      "[INFO] 5 matched locations *before* NMS\n",
      "[INFO] 5 matched locations *before* NMS\n"
     ]
    }
   ],
   "source": [
    "s = get_heros_from_image(img)"
   ]
  },
  {
   "cell_type": "code",
   "execution_count": 106,
   "id": "adolescent-emerald",
   "metadata": {},
   "outputs": [
    {
     "data": {
      "text/plain": [
       "(197, 291, 60, 490)"
      ]
     },
     "execution_count": 106,
     "metadata": {},
     "output_type": "execute_result"
    }
   ],
   "source": [
    "s[0][1]"
   ]
  },
  {
   "cell_type": "code",
   "execution_count": null,
   "id": "developed-adelaide",
   "metadata": {},
   "outputs": [],
   "source": []
  },
  {
   "cell_type": "code",
   "execution_count": null,
   "id": "continent-excess",
   "metadata": {},
   "outputs": [],
   "source": []
  },
  {
   "cell_type": "code",
   "execution_count": null,
   "id": "republican-athens",
   "metadata": {},
   "outputs": [],
   "source": []
  },
  {
   "cell_type": "code",
   "execution_count": null,
   "id": "integral-cooperation",
   "metadata": {},
   "outputs": [],
   "source": []
  },
  {
   "cell_type": "code",
   "execution_count": null,
   "id": "arctic-solid",
   "metadata": {},
   "outputs": [],
   "source": []
  },
  {
   "cell_type": "code",
   "execution_count": null,
   "id": "russian-graph",
   "metadata": {},
   "outputs": [],
   "source": []
  }
 ],
 "metadata": {
  "kernelspec": {
   "display_name": "Python 3",
   "language": "python",
   "name": "python3"
  },
  "language_info": {
   "codemirror_mode": {
    "name": "ipython",
    "version": 3
   },
   "file_extension": ".py",
   "mimetype": "text/x-python",
   "name": "python",
   "nbconvert_exporter": "python",
   "pygments_lexer": "ipython3",
   "version": "3.6.12"
  }
 },
 "nbformat": 4,
 "nbformat_minor": 5
}
