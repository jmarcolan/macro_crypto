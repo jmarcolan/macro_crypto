{
 "cells": [
  {
   "cell_type": "code",
   "execution_count": 1,
   "id": "ambient-assessment",
   "metadata": {},
   "outputs": [],
   "source": [
    "import pyautogui, sys"
   ]
  },
  {
   "cell_type": "code",
   "execution_count": 4,
   "id": "surprised-circular",
   "metadata": {},
   "outputs": [],
   "source": [
    "# from PIL import ImageGrab\n",
    "# from functools import partial\n",
    "# ImageGrab.grab = partial(ImageGrab.grab, all_screens=True)"
   ]
  },
  {
   "cell_type": "code",
   "execution_count": 3,
   "id": "prerequisite-present",
   "metadata": {},
   "outputs": [
    {
     "data": {
      "text/plain": [
       "Size(width=1920, height=1080)"
      ]
     },
     "execution_count": 3,
     "metadata": {},
     "output_type": "execute_result"
    }
   ],
   "source": []
  },
  {
   "cell_type": "code",
   "execution_count": null,
   "id": "widespread-warehouse",
   "metadata": {},
   "outputs": [],
   "source": []
  },
  {
   "cell_type": "code",
   "execution_count": 5,
   "id": "independent-convert",
   "metadata": {},
   "outputs": [],
   "source": [
    "# import pyautogui\n",
    "# import chilimangoes\n",
    "# pyautogui.screenshot = chilimangoes.grab_screen\n",
    "# pyautogui.pyscreeze.screenshot = chilimangoes.grab_screen\n",
    "# pyautogui.size = lambda: chilimangoes.screen_size"
   ]
  },
  {
   "cell_type": "code",
   "execution_count": null,
   "id": "competitive-saying",
   "metadata": {},
   "outputs": [],
   "source": []
  },
  {
   "cell_type": "code",
   "execution_count": 6,
   "id": "closed-ordinance",
   "metadata": {},
   "outputs": [
    {
     "data": {
      "text/plain": [
       "(10000, 10000)"
      ]
     },
     "execution_count": 6,
     "metadata": {},
     "output_type": "execute_result"
    }
   ],
   "source": [
    "pyautogui.size()"
   ]
  },
  {
   "cell_type": "code",
   "execution_count": 9,
   "id": "patent-medicare",
   "metadata": {},
   "outputs": [
    {
     "data": {
      "text/plain": [
       "(465, 766)"
      ]
     },
     "execution_count": 9,
     "metadata": {},
     "output_type": "execute_result"
    }
   ],
   "source": [
    "\n",
    "# x, y = pyautogui.position()\n",
    "# x, y"
   ]
  }
 ],
 "metadata": {
  "kernelspec": {
   "display_name": "Python 3",
   "language": "python",
   "name": "python3"
  },
  "language_info": {
   "codemirror_mode": {
    "name": "ipython",
    "version": 3
   },
   "file_extension": ".py",
   "mimetype": "text/x-python",
   "name": "python",
   "nbconvert_exporter": "python",
   "pygments_lexer": "ipython3",
   "version": "3.6.12"
  }
 },
 "nbformat": 4,
 "nbformat_minor": 5
}
