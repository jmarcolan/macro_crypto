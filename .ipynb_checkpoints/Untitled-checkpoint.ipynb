{
 "cells": [
  {
   "cell_type": "code",
   "execution_count": 1,
   "id": "greek-strap",
   "metadata": {},
   "outputs": [],
   "source": [
    "import time\n",
    "import cv2\n",
    "import numpy as np\n",
    "import pyautogui\n",
    "from matplotlib import pyplot as plt\n",
    "# necessario para pegar toda a imagem\n",
    "\n",
    "import detectamdo_objetos as do\n",
    "import captador_image as cp\n",
    "import mouse_driver as md\n",
    "\n"
   ]
  },
  {
   "cell_type": "code",
   "execution_count": null,
   "id": "olive-fleet",
   "metadata": {},
   "outputs": [],
   "source": []
  },
  {
   "cell_type": "code",
   "execution_count": 2,
   "id": "chronic-ministry",
   "metadata": {},
   "outputs": [],
   "source": [
    "# img = pyautogui.screenshot()\n",
    "# open_cv_image = np.array(img) \n",
    "# # Convert RGB to BGR \n",
    "# # open_cv_image = open_cv_image[:, :, ::-1].copy()\n",
    "# im_rgb = cv2.cvtColor(open_cv_image, cv2.COLOR_BGR2RGB)\n",
    "\n",
    "# plt.imshow(open_cv_image)\n",
    "# plt.show()"
   ]
  },
  {
   "cell_type": "code",
   "execution_count": 3,
   "id": "certified-memory",
   "metadata": {},
   "outputs": [],
   "source": [
    "# do.get_rectangle_heros(im_rgb)"
   ]
  },
  {
   "cell_type": "code",
   "execution_count": 4,
   "id": "northern-campbell",
   "metadata": {},
   "outputs": [],
   "source": [
    "# hero_image = do.get_heros_from_image(im_rgb)\n",
    "# for hero in hero_image:\n",
    "#     cv2.imshow(\"Before NMS\", hero[0])\n",
    "#     cv2.waitKey(0)"
   ]
  },
  {
   "cell_type": "code",
   "execution_count": 5,
   "id": "million-harris",
   "metadata": {},
   "outputs": [],
   "source": [
    "# template1"
   ]
  },
  {
   "cell_type": "code",
   "execution_count": 6,
   "id": "governing-mileage",
   "metadata": {},
   "outputs": [],
   "source": [
    "# cv2.imwrite(\"hero_common_houseBlocked_restON_workOFF.jpg\", hero_image[0][0])\n",
    "# cv2.imwrite(\"hero_legend_houseON_restOFF_workOFF.jpg\", hero_image[1][0])\n",
    "# template1 = cv2.imread('./menu/lado_esquerdo_selecionado.bmp')\n",
    "# s = do.detecta_multiplos_objetos(im_rgb, template1, 0.90)\n",
    "# template1 = cv2.imread('./menu/lado_direito.bmp')\n",
    "# s = do.detecta_multiplos_objetos(s[0], template1, 0.90)\n",
    "# cv2.imshow(\"Before NMS\", s[0])\n",
    "# cv2.waitKey(0)"
   ]
  },
  {
   "cell_type": "code",
   "execution_count": 7,
   "id": "received-dallas",
   "metadata": {},
   "outputs": [
    {
     "name": "stdout",
     "output_type": "stream",
     "text": [
      "[INFO] 0 matched locations *before* NMS\n",
      "False\n",
      "[]\n",
      "[INFO] 0 matched locations *before* NMS\n",
      "False\n",
      "[]\n",
      "[INFO] 0 matched locations *before* NMS\n",
      "False\n",
      "[]\n",
      "[INFO] 0 matched locations *before* NMS\n",
      "False\n",
      "[]\n",
      "[INFO] 0 matched locations *before* NMS\n",
      "False\n",
      "[]\n"
     ]
    },
    {
     "ename": "KeyboardInterrupt",
     "evalue": "",
     "output_type": "error",
     "traceback": [
      "\u001b[1;31m---------------------------------------------------------------------------\u001b[0m",
      "\u001b[1;31mKeyboardInterrupt\u001b[0m                         Traceback (most recent call last)",
      "\u001b[1;32m<ipython-input-7-2d9cdedad086>\u001b[0m in \u001b[0;36m<module>\u001b[1;34m\u001b[0m\n\u001b[0;32m      8\u001b[0m     \u001b[0mprint\u001b[0m\u001b[1;33m(\u001b[0m\u001b[0ms\u001b[0m\u001b[1;33m[\u001b[0m\u001b[1;36m2\u001b[0m\u001b[1;33m]\u001b[0m\u001b[1;33m)\u001b[0m\u001b[1;33m\u001b[0m\u001b[1;33m\u001b[0m\u001b[0m\n\u001b[0;32m      9\u001b[0m     \u001b[0mprint\u001b[0m\u001b[1;33m(\u001b[0m\u001b[0ms\u001b[0m\u001b[1;33m[\u001b[0m\u001b[1;36m1\u001b[0m\u001b[1;33m]\u001b[0m\u001b[1;33m)\u001b[0m\u001b[1;33m\u001b[0m\u001b[1;33m\u001b[0m\u001b[0m\n\u001b[1;32m---> 10\u001b[1;33m     \u001b[0mtime\u001b[0m\u001b[1;33m.\u001b[0m\u001b[0msleep\u001b[0m\u001b[1;33m(\u001b[0m\u001b[1;36m4\u001b[0m\u001b[1;33m)\u001b[0m\u001b[1;33m\u001b[0m\u001b[1;33m\u001b[0m\u001b[0m\n\u001b[0m\u001b[0;32m     11\u001b[0m \u001b[1;31m#     cv2.imshow(\"Before NMS\", s[0])\u001b[0m\u001b[1;33m\u001b[0m\u001b[1;33m\u001b[0m\u001b[1;33m\u001b[0m\u001b[0m\n\u001b[0;32m     12\u001b[0m \u001b[1;31m#     cv2.waitKey(100)\u001b[0m\u001b[1;33m\u001b[0m\u001b[1;33m\u001b[0m\u001b[1;33m\u001b[0m\u001b[0m\n",
      "\u001b[1;31mKeyboardInterrupt\u001b[0m: "
     ]
    }
   ],
   "source": [
    "# def r_final_jogo(img):\n",
    "#     template1 = cv2.imread('./menu/new_map.bmp')\n",
    "#     saida = detecta_multiplos_objetos(img,template1, 0.90)\n",
    "#     return saida\n",
    "# while True:\n",
    "#     im_rgb = cp.snapshot()\n",
    "#     s = do.r_final_jogo(im_rgb)\n",
    "#     print(s[2])\n",
    "#     print(s[1])\n",
    "#     time.sleep(4)\n",
    "# #     cv2.imshow(\"Before NMS\", s[0])\n",
    "# #     cv2.waitKey(100)\n",
    "    "
   ]
  },
  {
   "cell_type": "code",
   "execution_count": 8,
   "id": "surprising-bahrain",
   "metadata": {},
   "outputs": [],
   "source": [
    "def get_parameter_for_bound_bov(y_i):\n",
    "    y = y_i[0][1]\n",
    "    h = y_i[1][1] - y_i[0][1]\n",
    "    x = y_i[0][0]\n",
    "    w = y_i[1][0] - y_i[0][0]\n",
    "    return x,y,h,w  \n",
    "\n",
    "def draw_rectangle_object_detect(im_rgb, ob_detected):\n",
    "    s = get_parameter_for_bound_bov(teste)\n",
    "    cv2.rectangle(im_rgb, (s[0], s[1]),\n",
    "                  (s[0] + s[3], s[1] + s[2]),\n",
    "                  (255, 0, 0), 3)\n",
    "    return im_rgb, ob_detected, s"
   ]
  },
  {
   "cell_type": "code",
   "execution_count": null,
   "id": "presidential-gates",
   "metadata": {},
   "outputs": [],
   "source": [
    "# teste = ((900, 729), (1105, 791))\n",
    "\n",
    "# im_rgb = cp.snapshot()\n",
    "\n",
    "# md.leva_mouse_meio_detecao(teste[0], teste[1])\n",
    "# cv2.imshow(\"Before NMS\",im_rgb)\n",
    "# cv2.waitKey(0)"
   ]
  },
  {
   "cell_type": "code",
   "execution_count": 9,
   "id": "sensitive-enterprise",
   "metadata": {},
   "outputs": [
    {
     "ename": "SyntaxError",
     "evalue": "invalid syntax (<ipython-input-9-cb039067a251>, line 13)",
     "output_type": "error",
     "traceback": [
      "\u001b[1;36m  File \u001b[1;32m\"<ipython-input-9-cb039067a251>\"\u001b[1;36m, line \u001b[1;32m13\u001b[0m\n\u001b[1;33m    return True\u001b[0m\n\u001b[1;37m         ^\u001b[0m\n\u001b[1;31mSyntaxError\u001b[0m\u001b[1;31m:\u001b[0m invalid syntax\n"
     ]
    }
   ],
   "source": [
    "def go_novo_map(img):\n",
    "    im_safe = img.copy()\n",
    "    s = do.r_final_jogo(im_safe)\n",
    "    r_encontrou_fim = s[2]\n",
    "    curent_position = pyautogui.position()\n",
    "    if r_encontrou_fim:\n",
    "        posi_objeto = s[1][0]\n",
    "        print(posi_objeto)\n",
    "        md.leva_mouse_meio_detecao(posi_objeto[0], posi_objeto[1\n",
    "        return True\n",
    "\n",
    "#         pyautogui.click()\n",
    "#         pyautogui.moveTo(curent_position[0],curent_position[1])\n",
    "    else:\n",
    "        print(\"nao detectou fim\")\n",
    "        return False\n",
    "        "
   ]
  },
  {
   "cell_type": "code",
   "execution_count": null,
   "id": "formed-oasis",
   "metadata": {},
   "outputs": [],
   "source": [
    "im_rgb = cp.snapshot()\n",
    "go_novo_map(im_rgb)\n"
   ]
  },
  {
   "cell_type": "code",
   "execution_count": null,
   "id": "dated-leeds",
   "metadata": {},
   "outputs": [],
   "source": [
    "s = do.r_final_jogo(im_rgb)\n",
    "s[1]"
   ]
  }
 ],
 "metadata": {
  "kernelspec": {
   "display_name": "Python 3",
   "language": "python",
   "name": "python3"
  },
  "language_info": {
   "codemirror_mode": {
    "name": "ipython",
    "version": 3
   },
   "file_extension": ".py",
   "mimetype": "text/x-python",
   "name": "python",
   "nbconvert_exporter": "python",
   "pygments_lexer": "ipython3",
   "version": "3.6.12"
  }
 },
 "nbformat": 4,
 "nbformat_minor": 5
}
