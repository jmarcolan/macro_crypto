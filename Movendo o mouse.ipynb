{
 "cells": [
  {
   "cell_type": "code",
   "execution_count": 1,
   "id": "gross-revolution",
   "metadata": {},
   "outputs": [],
   "source": [
    "import pyautogui, sys"
   ]
  },
  {
   "cell_type": "code",
   "execution_count": 2,
   "id": "ceramic-apparatus",
   "metadata": {},
   "outputs": [],
   "source": [
    "# from PIL import ImageGrab\n",
    "# from functools import partial\n",
    "# ImageGrab.grab = partial(ImageGrab.grab, all_screens=True)"
   ]
  },
  {
   "cell_type": "code",
   "execution_count": null,
   "id": "impaired-ozone",
   "metadata": {},
   "outputs": [],
   "source": []
  },
  {
   "cell_type": "code",
   "execution_count": 6,
   "id": "overhead-prison",
   "metadata": {},
   "outputs": [],
   "source": [
    "x, y = pyautogui.position()"
   ]
  },
  {
   "cell_type": "code",
   "execution_count": 3,
   "id": "productive-oriental",
   "metadata": {},
   "outputs": [],
   "source": [
    "# import pyautogui\n",
    "# import chilimangoes\n",
    "# pyautogui.screenshot = chilimangoes.grab_screen\n",
    "# pyautogui.pyscreeze.screenshot = chilimangoes.grab_screen\n",
    "# pyautogui.size = lambda: chilimangoes.screen_size"
   ]
  },
  {
   "cell_type": "code",
   "execution_count": null,
   "id": "designing-carrier",
   "metadata": {},
   "outputs": [],
   "source": []
  },
  {
   "cell_type": "code",
   "execution_count": 4,
   "id": "flying-class",
   "metadata": {},
   "outputs": [
    {
     "data": {
      "text/plain": [
       "Size(width=1920, height=1080)"
      ]
     },
     "execution_count": 4,
     "metadata": {},
     "output_type": "execute_result"
    }
   ],
   "source": [
    "pyautogui.size()"
   ]
  },
  {
   "cell_type": "code",
   "execution_count": 5,
   "id": "fitting-footwear",
   "metadata": {},
   "outputs": [],
   "source": [
    "# ((x esquerda, y esquerda), (x direita ,y direita))\n",
    "# x ->\n",
    "# y ->\n",
    "[((-1920, 0),(0, 10682)), ((0,0), (1916, 10792)), ((1924,12), (3839, 10722))]\n",
    "# x, y = pyautogui.position()\n",
    "# x, y"
   ]
  }
 ],
 "metadata": {
  "kernelspec": {
   "display_name": "Python 3",
   "language": "python",
   "name": "python3"
  },
  "language_info": {
   "codemirror_mode": {
    "name": "ipython",
    "version": 3
   },
   "file_extension": ".py",
   "mimetype": "text/x-python",
   "name": "python",
   "nbconvert_exporter": "python",
   "pygments_lexer": "ipython3",
   "version": "3.6.12"
  }
 },
 "nbformat": 4,
 "nbformat_minor": 5
}
