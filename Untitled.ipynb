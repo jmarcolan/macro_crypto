{
 "cells": [
  {
   "cell_type": "code",
   "execution_count": 1,
   "id": "greek-strap",
   "metadata": {},
   "outputs": [],
   "source": [
    "import time\n",
    "import cv2\n",
    "import numpy as np\n",
    "import pyautogui\n",
    "from matplotlib import pyplot as plt\n",
    "# necessario para pegar toda a imagem\n",
    "\n",
    "import detectamdo_objetos as do\n",
    "import captador_image as cp\n",
    "import mouse_driver as md\n",
    "\n"
   ]
  },
  {
   "cell_type": "code",
   "execution_count": null,
   "id": "olive-fleet",
   "metadata": {},
   "outputs": [],
   "source": []
  },
  {
   "cell_type": "code",
   "execution_count": 2,
   "id": "chronic-ministry",
   "metadata": {},
   "outputs": [],
   "source": [
    "# img = pyautogui.screenshot()\n",
    "# open_cv_image = np.array(img) \n",
    "# # Convert RGB to BGR \n",
    "# # open_cv_image = open_cv_image[:, :, ::-1].copy()\n",
    "# im_rgb = cv2.cvtColor(open_cv_image, cv2.COLOR_BGR2RGB)\n",
    "\n",
    "# plt.imshow(open_cv_image)\n",
    "# plt.show()"
   ]
  },
  {
   "cell_type": "code",
   "execution_count": 3,
   "id": "certified-memory",
   "metadata": {},
   "outputs": [],
   "source": [
    "# do.get_rectangle_heros(im_rgb)"
   ]
  },
  {
   "cell_type": "code",
   "execution_count": 4,
   "id": "northern-campbell",
   "metadata": {},
   "outputs": [],
   "source": [
    "# hero_image = do.get_heros_from_image(im_rgb)\n",
    "# for hero in hero_image:\n",
    "#     cv2.imshow(\"Before NMS\", hero[0])\n",
    "#     cv2.waitKey(0)"
   ]
  },
  {
   "cell_type": "code",
   "execution_count": 5,
   "id": "million-harris",
   "metadata": {},
   "outputs": [],
   "source": [
    "# template1"
   ]
  },
  {
   "cell_type": "code",
   "execution_count": 6,
   "id": "governing-mileage",
   "metadata": {},
   "outputs": [],
   "source": [
    "# cv2.imwrite(\"hero_common_houseBlocked_restON_workOFF.jpg\", hero_image[0][0])\n",
    "# cv2.imwrite(\"hero_legend_houseON_restOFF_workOFF.jpg\", hero_image[1][0])\n",
    "# template1 = cv2.imread('./menu/lado_esquerdo_selecionado.bmp')\n",
    "# s = do.detecta_multiplos_objetos(im_rgb, template1, 0.90)\n",
    "# template1 = cv2.imread('./menu/lado_direito.bmp')\n",
    "# s = do.detecta_multiplos_objetos(s[0], template1, 0.90)\n",
    "# cv2.imshow(\"Before NMS\", s[0])\n",
    "# cv2.waitKey(0)"
   ]
  },
  {
   "cell_type": "code",
   "execution_count": 7,
   "id": "received-dallas",
   "metadata": {},
   "outputs": [
    {
     "name": "stdout",
     "output_type": "stream",
     "text": [
      "[INFO] 0 matched locations *before* NMS\n",
      "salon False\n",
      "[INFO] 0 matched locations *before* NMS\n",
      "hero page False\n",
      "[INFO] 1 matched locations *before* NMS\n",
      "treasure hunte True\n"
     ]
    }
   ],
   "source": [
    "def r_salon(img):\n",
    "    template1 = cv2.imread('./menu/star_fase.bmp')\n",
    "    saida = do.detecta_multiplos_objetos(img,template1, 0.90)\n",
    "    return saida\n",
    "\n",
    "def r_hero_page(img):\n",
    "    template1 = cv2.imread('./menu/hero_page.bmp')\n",
    "    saida = do.detecta_multiplos_objetos(img,template1, 0.90)\n",
    "    return saida\n",
    "\n",
    "def r_treasure_hunt(img):\n",
    "    template1 = cv2.imread('./menu/bomb_working.bmp')\n",
    "    saida = do.detecta_multiplos_objetos(img,template1, 0.90)\n",
    "    return saida\n",
    "\n",
    "im_rgb = cp.snapshot()\n",
    "print(\"salon\", r_salon(im_rgb)[2])\n",
    "print(\"hero page\",r_hero_page(im_rgb)[2])\n",
    "print(\"treasure hunte\", r_treasure_hunt(im_rgb)[2] )\n",
    "\n",
    "\n",
    "\n",
    "# while True:\n",
    "#     im_rgb = cp.snapshot()\n",
    "#     s = do.r_final_jogo(im_rgb)\n",
    "#     print(s[2])\n",
    "#     print(s[1])\n",
    "#     time.sleep(4)\n",
    "# #     cv2.imshow(\"Before NMS\", s[0])\n",
    "# #     cv2.waitKey(100)\n",
    "    "
   ]
  },
  {
   "cell_type": "code",
   "execution_count": 16,
   "id": "bound-professor",
   "metadata": {},
   "outputs": [
    {
     "name": "stdout",
     "output_type": "stream",
     "text": [
      "[INFO] 10 matched locations *before* NMS\n",
      "[INFO] 0 matched locations *before* NMS\n",
      "[INFO] 0 matched locations *before* NMS\n",
      "[INFO] 0 matched locations *before* NMS\n",
      "10\n"
     ]
    },
    {
     "data": {
      "text/plain": [
       "-1"
      ]
     },
     "execution_count": 16,
     "metadata": {},
     "output_type": "execute_result"
    }
   ],
   "source": [
    "def qnt_sleping(img):\n",
    "    template1 = cv2.imread('./bomber_stats/bomber_finish.bmp')\n",
    "    saida = do.detecta_multiplos_objetos(img,template1, 0.80)\n",
    "    template1 = cv2.imread('./bomber_stats/bomber_finish_1.bmp')\n",
    "    saida1 = do.detecta_multiplos_objetos(saida[0],template1, 0.85)\n",
    "    template1 = cv2.imread('./bomber_stats/bomber_finish_2.bmp')\n",
    "    saida2 = do.detecta_multiplos_objetos(saida1[0],template1, 0.85)\n",
    "    template1 = cv2.imread('./bomber_stats/bomber_finish_3.bmp')\n",
    "    saida3 = do.detecta_multiplos_objetos(saida1[0],template1, 0.85)\n",
    "    \n",
    "    ls =[]\n",
    "    for l in saida[1]:\n",
    "        ls.append(l)\n",
    "        \n",
    "    for l in saida1[1]:\n",
    "        ls.append(l)\n",
    "        \n",
    "    for l in saida2[1]:\n",
    "        ls.append(l)\n",
    "        \n",
    "    for l in saida3[1]:\n",
    "        ls.append(l) \n",
    "            \n",
    "    r_encontrou = len(ls) != 0\n",
    "    return saida2[0], ls, r_encontrou\n",
    "\n",
    "im_rgb = cp.snapshot()\n",
    "s = qnt_sleping(im_rgb)\n",
    "print(len(s[1]))\n",
    "\n",
    "cv2.imshow(\"Before NMS\", s[0])\n",
    "cv2.waitKey(0)"
   ]
  },
  {
   "cell_type": "code",
   "execution_count": null,
   "id": "brilliant-brazilian",
   "metadata": {},
   "outputs": [],
   "source": []
  },
  {
   "cell_type": "code",
   "execution_count": 9,
   "id": "thirty-freight",
   "metadata": {},
   "outputs": [],
   "source": [
    "def get_parameter_for_bound_bov(y_i):\n",
    "    y = y_i[0][1]\n",
    "    h = y_i[1][1] - y_i[0][1]\n",
    "    x = y_i[0][0]\n",
    "    w = y_i[1][0] - y_i[0][0]\n",
    "    return x,y,h,w  \n",
    "\n",
    "def draw_rectangle_object_detect(im_rgb, ob_detected):\n",
    "    s = get_parameter_for_bound_bov(ob_detected)\n",
    "    cv2.rectangle(im_rgb, (s[0], s[1]),\n",
    "                  (s[0] + s[3], s[1] + s[2]),\n",
    "                  (255, 0, 0), 3)\n",
    "    return im_rgb, ob_detected, s"
   ]
  },
  {
   "cell_type": "code",
   "execution_count": 10,
   "id": "presidential-gates",
   "metadata": {},
   "outputs": [],
   "source": [
    "# teste = ((900, 729), (1105, 791))\n",
    "\n",
    "# im_rgb = cp.snapshot()\n",
    "\n",
    "# md.leva_mouse_meio_detecao(teste[0], teste[1])\n",
    "# cv2.imshow(\"Before NMS\",im_rgb)\n",
    "# cv2.waitKey(0)"
   ]
  },
  {
   "cell_type": "code",
   "execution_count": 11,
   "id": "sensitive-enterprise",
   "metadata": {},
   "outputs": [],
   "source": [
    "def go_novo_map(img):\n",
    "    im_safe = img.copy()\n",
    "    s = do.r_final_jogo(im_safe)\n",
    "    r_encontrou_fim = s[2]\n",
    "    curent_position = pyautogui.position()\n",
    "    if r_encontrou_fim:\n",
    "        posi_objeto = s[1][0]\n",
    "        print(posi_objeto)\n",
    "        md.leva_mouse_meio_detecao(posi_objeto[0], posi_objeto[1])\n",
    "        pyautogui.click()\n",
    "        pyautogui.moveTo(curent_position[0],curent_position[1])\n",
    "        return True\n",
    "    else:\n",
    "        print(\"nao detectou fim\")\n",
    "        return False\n",
    "        "
   ]
  },
  {
   "cell_type": "code",
   "execution_count": 12,
   "id": "formed-oasis",
   "metadata": {},
   "outputs": [
    {
     "name": "stdout",
     "output_type": "stream",
     "text": [
      "[INFO] 0 matched locations *before* NMS\n",
      "nao detectou fim\n"
     ]
    },
    {
     "data": {
      "text/plain": [
       "False"
      ]
     },
     "execution_count": 12,
     "metadata": {},
     "output_type": "execute_result"
    }
   ],
   "source": [
    "im_rgb = cp.snapshot()\n",
    "go_novo_map(im_rgb)\n"
   ]
  },
  {
   "cell_type": "code",
   "execution_count": 13,
   "id": "automated-sucking",
   "metadata": {},
   "outputs": [
    {
     "name": "stdout",
     "output_type": "stream",
     "text": [
      "[INFO] 0 matched locations *before* NMS\n"
     ]
    },
    {
     "data": {
      "text/plain": [
       "[]"
      ]
     },
     "execution_count": 13,
     "metadata": {},
     "output_type": "execute_result"
    }
   ],
   "source": [
    "s = do.r_final_jogo(im_rgb)\n",
    "s[1]"
   ]
  }
 ],
 "metadata": {
  "kernelspec": {
   "display_name": "Python 3",
   "language": "python",
   "name": "python3"
  },
  "language_info": {
   "codemirror_mode": {
    "name": "ipython",
    "version": 3
   },
   "file_extension": ".py",
   "mimetype": "text/x-python",
   "name": "python",
   "nbconvert_exporter": "python",
   "pygments_lexer": "ipython3",
   "version": "3.6.12"
  }
 },
 "nbformat": 4,
 "nbformat_minor": 5
}
